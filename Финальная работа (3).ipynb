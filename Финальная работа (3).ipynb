{
 "cells": [
  {
   "cell_type": "code",
   "execution_count": 1,
   "metadata": {
    "colab": {},
    "colab_type": "code",
    "id": "l7gqVOo0bZml"
   },
   "outputs": [],
   "source": [
    "import pandas as pd\n",
    "import numpy as np\n",
    "import matplotlib.pyplot as plt\n",
    "import scipy.stats as sts\n",
    "import seaborn as sns\n",
    "import statistics\n",
    "from scipy import stats\n",
    "%matplotlib inline"
   ]
  },
  {
   "cell_type": "code",
   "execution_count": 2,
   "metadata": {
    "colab": {
     "base_uri": "https://localhost:8080/",
     "height": 394
    },
    "colab_type": "code",
    "id": "QH5FltxHboRr",
    "outputId": "88de7896-7211-4131-a4f7-874ee961e72f"
   },
   "outputs": [],
   "source": [
    "df = pd.read_excel ('Data Sample (AIC) для итоговой работы .xlsx')"
   ]
  },
  {
   "cell_type": "markdown",
   "metadata": {},
   "source": [
    "\n",
    "# Информация  о датасете\n",
    "\n",
    "Это транснациональный набор данных, который содержит все транзакции, совершенные в период с 01.12.2010 г. по 09.12.2011 г. для зарегистрированной в Великобритании розничной сети, не связанной с магазином. В основном компания продает уникальные подарки на все случаи жизни. Многие клиенты компании являются оптовиками.\n",
    "\n",
    "InvoiceNo: номер счета. Номинальное, 6-значное целое число, однозначно присвоенное каждой транзакции. Если этот код начинается с буквы «с», это означает отмену.\n",
    "\n",
    "StockCode: код товара (товара). Номинальное, пятизначное целое число, однозначно присвоенное каждому отдельному продукту.\n",
    "\n",
    "Description: Название товара (предмета). Номинальная.\n",
    "\n",
    "Quantity: количество каждого продукта (товара) за транзакцию. Числовой.\n",
    "\n",
    "InvoiceDate: Invice Дата и время. Числовой, день и время создания каждой транзакции.\n",
    "\n",
    "UnitPrice: цена за единицу. Числовой, Цена товара за единицу в стерлингах.\n",
    "\n",
    "CustomerID: номер клиента. Номинальное, пятизначное целое число, однозначно присвоенное каждому клиенту.\n",
    "\n",
    "Country: Название страны. Номинальное, название страны, где проживает каждый клиент."
   ]
  },
  {
   "cell_type": "code",
   "execution_count": 3,
   "metadata": {},
   "outputs": [
    {
     "data": {
      "text/html": [
       "<div>\n",
       "<style scoped>\n",
       "    .dataframe tbody tr th:only-of-type {\n",
       "        vertical-align: middle;\n",
       "    }\n",
       "\n",
       "    .dataframe tbody tr th {\n",
       "        vertical-align: top;\n",
       "    }\n",
       "\n",
       "    .dataframe thead th {\n",
       "        text-align: right;\n",
       "    }\n",
       "</style>\n",
       "<table border=\"1\" class=\"dataframe\">\n",
       "  <thead>\n",
       "    <tr style=\"text-align: right;\">\n",
       "      <th></th>\n",
       "      <th>InvoiceNo</th>\n",
       "      <th>StockCode</th>\n",
       "      <th>Description</th>\n",
       "      <th>Quantity</th>\n",
       "      <th>InvoiceDate</th>\n",
       "      <th>UnitPrice</th>\n",
       "      <th>CustomerID</th>\n",
       "      <th>Country</th>\n",
       "    </tr>\n",
       "  </thead>\n",
       "  <tbody>\n",
       "    <tr>\n",
       "      <th>0</th>\n",
       "      <td>536365</td>\n",
       "      <td>84029E</td>\n",
       "      <td>RED WOOLLY HOTTIE WHITE HEART.</td>\n",
       "      <td>6</td>\n",
       "      <td>2010-12-01 08:26:00</td>\n",
       "      <td>3.39</td>\n",
       "      <td>17850.0</td>\n",
       "      <td>United Kingdom</td>\n",
       "    </tr>\n",
       "    <tr>\n",
       "      <th>1</th>\n",
       "      <td>536367</td>\n",
       "      <td>84879</td>\n",
       "      <td>ASSORTED COLOUR BIRD ORNAMENT</td>\n",
       "      <td>32</td>\n",
       "      <td>2010-12-01 08:34:00</td>\n",
       "      <td>1.69</td>\n",
       "      <td>13047.0</td>\n",
       "      <td>United Kingdom</td>\n",
       "    </tr>\n",
       "    <tr>\n",
       "      <th>2</th>\n",
       "      <td>536367</td>\n",
       "      <td>21755</td>\n",
       "      <td>LOVE BUILDING BLOCK WORD</td>\n",
       "      <td>3</td>\n",
       "      <td>2010-12-01 08:34:00</td>\n",
       "      <td>5.95</td>\n",
       "      <td>13047.0</td>\n",
       "      <td>United Kingdom</td>\n",
       "    </tr>\n",
       "    <tr>\n",
       "      <th>3</th>\n",
       "      <td>536368</td>\n",
       "      <td>22914</td>\n",
       "      <td>BLUE COAT RACK PARIS FASHION</td>\n",
       "      <td>3</td>\n",
       "      <td>2010-12-01 08:34:00</td>\n",
       "      <td>4.95</td>\n",
       "      <td>13047.0</td>\n",
       "      <td>United Kingdom</td>\n",
       "    </tr>\n",
       "    <tr>\n",
       "      <th>4</th>\n",
       "      <td>536373</td>\n",
       "      <td>84406B</td>\n",
       "      <td>CREAM CUPID HEARTS COAT HANGER</td>\n",
       "      <td>8</td>\n",
       "      <td>2010-12-01 09:02:00</td>\n",
       "      <td>2.75</td>\n",
       "      <td>17850.0</td>\n",
       "      <td>United Kingdom</td>\n",
       "    </tr>\n",
       "  </tbody>\n",
       "</table>\n",
       "</div>"
      ],
      "text/plain": [
       "  InvoiceNo StockCode                     Description  Quantity  \\\n",
       "0    536365    84029E  RED WOOLLY HOTTIE WHITE HEART.         6   \n",
       "1    536367     84879   ASSORTED COLOUR BIRD ORNAMENT        32   \n",
       "2    536367     21755        LOVE BUILDING BLOCK WORD         3   \n",
       "3    536368     22914    BLUE COAT RACK PARIS FASHION         3   \n",
       "4    536373    84406B  CREAM CUPID HEARTS COAT HANGER         8   \n",
       "\n",
       "          InvoiceDate  UnitPrice  CustomerID         Country  \n",
       "0 2010-12-01 08:26:00       3.39     17850.0  United Kingdom  \n",
       "1 2010-12-01 08:34:00       1.69     13047.0  United Kingdom  \n",
       "2 2010-12-01 08:34:00       5.95     13047.0  United Kingdom  \n",
       "3 2010-12-01 08:34:00       4.95     13047.0  United Kingdom  \n",
       "4 2010-12-01 09:02:00       2.75     17850.0  United Kingdom  "
      ]
     },
     "execution_count": 3,
     "metadata": {},
     "output_type": "execute_result"
    }
   ],
   "source": [
    "df.head()"
   ]
  },
  {
   "cell_type": "code",
   "execution_count": 4,
   "metadata": {},
   "outputs": [
    {
     "name": "stdout",
     "output_type": "stream",
     "text": [
      "<class 'pandas.core.frame.DataFrame'>\n",
      "RangeIndex: 54214 entries, 0 to 54213\n",
      "Data columns (total 8 columns):\n",
      "InvoiceNo      54214 non-null object\n",
      "StockCode      54214 non-null object\n",
      "Description    54080 non-null object\n",
      "Quantity       54214 non-null int64\n",
      "InvoiceDate    54214 non-null datetime64[ns]\n",
      "UnitPrice      54214 non-null float64\n",
      "CustomerID     40643 non-null float64\n",
      "Country        54214 non-null object\n",
      "dtypes: datetime64[ns](1), float64(2), int64(1), object(4)\n",
      "memory usage: 3.3+ MB\n"
     ]
    }
   ],
   "source": [
    "df.info ()"
   ]
  },
  {
   "cell_type": "code",
   "execution_count": 5,
   "metadata": {},
   "outputs": [],
   "source": [
    "#удалим нулевые значения\n",
    "df2 = df.dropna()"
   ]
  },
  {
   "cell_type": "code",
   "execution_count": 6,
   "metadata": {},
   "outputs": [
    {
     "name": "stdout",
     "output_type": "stream",
     "text": [
      "(40643, 8)\n"
     ]
    }
   ],
   "source": [
    "print(np.shape(df2))"
   ]
  },
  {
   "cell_type": "code",
   "execution_count": 21,
   "metadata": {},
   "outputs": [
    {
     "name": "stdout",
     "output_type": "stream",
     "text": [
      "<class 'pandas.core.frame.DataFrame'>\n",
      "Int64Index: 40643 entries, 0 to 54213\n",
      "Data columns (total 8 columns):\n",
      "InvoiceNo      40643 non-null object\n",
      "StockCode      40643 non-null object\n",
      "Description    40643 non-null object\n",
      "Quantity       40643 non-null int64\n",
      "InvoiceDate    40643 non-null datetime64[ns]\n",
      "UnitPrice      40643 non-null float64\n",
      "CustomerID     40643 non-null float64\n",
      "Country        40643 non-null object\n",
      "dtypes: datetime64[ns](1), float64(2), int64(1), object(4)\n",
      "memory usage: 2.8+ MB\n"
     ]
    }
   ],
   "source": [
    "df2.info ()"
   ]
  },
  {
   "cell_type": "markdown",
   "metadata": {},
   "source": [
    "Для того, чтобы определить, как цена товара влияет на количество проданных товаров, посчитаем коэффициент корреляции Пирсона."
   ]
  },
  {
   "cell_type": "code",
   "execution_count": 11,
   "metadata": {},
   "outputs": [
    {
     "name": "stdout",
     "output_type": "stream",
     "text": [
      "Коэффициент корреляции Пирсона: -0.013069156290481105\n"
     ]
    },
    {
     "data": {
      "image/png": "[encoded data removed]",
      "text/plain": [
       "<Figure size 360x360 with 1 Axes>"
      ]
     },
     "metadata": {},
     "output_type": "display_data"
    }
   ],
   "source": [
    "from scipy.stats import pearsonr\n",
    "\n",
    "x = df2['Quantity']\n",
    "y = df2['UnitPrice']\n",
    "\n",
    "corr, p_value = pearsonr(x, y)\n",
    "plt.scatter(x, y, marker='.')\n",
    "print('Коэффициент корреляции Пирсона:', corr)"
   ]
  },
  {
   "cell_type": "markdown",
   "metadata": {},
   "source": [
    "Чем коэффициент ближе к 0, тем более независимы переменные."
   ]
  },
  {
   "cell_type": "markdown",
   "metadata": {},
   "source": [
    "Итак, снижение цены товара практически не влияет на количество купленных товаров. Предлагаю отвергнуть выдвинутую гипотезу."
   ]
  }
 ],
 "metadata": {
  "colab": {
   "name": "Untitled0.ipynb",
   "provenance": []
  },
  "kernelspec": {
   "display_name": "Python 3",
   "language": "python",
   "name": "python3"
  },
  "language_info": {
   "codemirror_mode": {
    "name": "ipython",
    "version": 3
   },
   "file_extension": ".py",
   "mimetype": "text/x-python",
   "name": "python",
   "nbconvert_exporter": "python",
   "pygments_lexer": "ipython3",
   "version": "3.7.3"
  }
 },
 "nbformat": 4,
 "nbformat_minor": 1
}
