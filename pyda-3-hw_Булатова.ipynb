{
 "cells": [
  {
   "cell_type": "markdown",
   "metadata": {},
   "source": [
    "## Задание 1"
   ]
  },
  {
   "cell_type": "markdown",
   "metadata": {},
   "source": [
    "Дан список вида:"
   ]
  },
  {
   "cell_type": "markdown",
   "metadata": {},
   "source": [
    "Напишите функцию, которая возвращает сумму элементов на диагонали. Т. е. 13+32+23+35."
   ]
  },
  {
   "cell_type": "code",
   "execution_count": 31,
   "metadata": {
    "scrolled": true
   },
   "outputs": [
    {
     "data": {
      "text/plain": [
       "103"
      ]
     },
     "execution_count": 31,
     "metadata": {},
     "output_type": "execute_result"
    }
   ],
   "source": [
    "data = [\n",
    "    [13, 25, 23, 34],\n",
    "    [45, 32, 44, 47],\n",
    "    [12, 33, 23, 95],\n",
    "    [13, 53, 34, 35]\n",
    "]\n",
    "\n",
    "def sum_diag (data):\n",
    "    i = 0\n",
    "    result = 0\n",
    "    for i in range(len(data)):\n",
    "        result += data[i][i]\n",
    "    return result\n",
    "\n",
    "sum_diag(data)\n"
   ]
  },
  {
   "cell_type": "markdown",
   "metadata": {},
   "source": [
    "## Задание 2"
   ]
  },
  {
   "cell_type": "markdown",
   "metadata": {},
   "source": [
    "Дан список чисел, часть из которых имеют строковый тип или содержат буквы. Напишите функцию, которая возвращает сумму квадратов элементов, которые могут быть числами."
   ]
  },
  {
   "cell_type": "code",
   "execution_count": 34,
   "metadata": {},
   "outputs": [
    {
     "data": {
      "text/plain": [
       "430"
      ]
     },
     "execution_count": 34,
     "metadata": {},
     "output_type": "execute_result"
    }
   ],
   "source": [
    "data = [1, '5', 'abc', 20, '2']\n",
    "\n",
    "def integer_sum (data):\n",
    "    i = 0\n",
    "    result = 0\n",
    "    for i in data:\n",
    "        if str(i).isdigit():\n",
    "            result += int(i)**2\n",
    "    return result  \n",
    "integer_sum(data)\n",
    "\n"
   ]
  },
  {
   "cell_type": "markdown",
   "metadata": {},
   "source": [
    "## Задание 3"
   ]
  },
  {
   "cell_type": "markdown",
   "metadata": {},
   "source": [
    "Напишите функцию, возвращающую сумму первых n чисел Фибоначчи."
   ]
  },
  {
   "cell_type": "code",
   "execution_count": 1,
   "metadata": {},
   "outputs": [],
   "source": [
    "# нашла несколько вариантов в инете, этот понравился больше всего:\n",
    "\n",
    "fib = lambda n: fib(n - 1) + fib(n - 2) if n > 2 else 1\n",
    "\n"
   ]
  },
  {
   "cell_type": "markdown",
   "metadata": {},
   "source": [
    "## Задание 4"
   ]
  },
  {
   "cell_type": "markdown",
   "metadata": {},
   "source": [
    "Дан набор данных об обучении студентов на курсе программирования, который содержит: \n",
    "1) имя\n",
    "2) фамилию \n",
    "3) пол \n",
    "4) наличие у студента опыта в программировании \n",
    "5) набор оценок за домашние работы \n",
    "6) оценку за итоговую работу.\n",
    "\n",
    "Напишите программу, которая будет принимать команду от пользователя и возвращать соотвествующий результат.\n",
    "Список команд: \n",
    "1 - вывести на экран среднюю оценку за все ДЗ по группе и вывести на экран среднюю оценку за экзамен по группе;\n",
    "2 - вывести среднюю оценку за ДЗ и за экзамен по группе в разрезе пола студентов\n",
    "3 - вывести среднюю оценку за ДЗ и за экзамен в разрезе наличия опыта в программировании у студентов.\n",
    "\n",
    "Программа должна быть полностью декомпозирована на функции (кроме объявления функций и вызова итоговой функции в реализации ничего быть не должно).\n"
   ]
  },
  {
   "cell_type": "code",
   "execution_count": 8,
   "metadata": {},
   "outputs": [
    {
     "name": "stdout",
     "output_type": "stream",
     "text": [
      "3\n",
      "Средние оценки в зависимости от опыта в программировании: \n",
      "С опытом: \n",
      "('Домашняя работа: ', 8.48, 'Экзамен: ', 9.0)\n",
      "Без опыта: \n",
      "('Домашняя работа: ', 8.2, 'Экзамен: ', 10.0)\n"
     ]
    },
    {
     "data": {
      "text/plain": [
       "3"
      ]
     },
     "execution_count": 8,
     "metadata": {},
     "output_type": "execute_result"
    }
   ],
   "source": [
    "students_list = [\n",
    "    {'name': 'Василий', 'surname': 'Теркин', 'sex': 'м', 'program_exp': True, 'grade': [8, 8, 9, 10, 9], 'exam': 9},\n",
    "    {'name': 'Мария', 'surname': 'Павлова', 'sex': 'ж', 'program_exp': True, 'grade': [7, 8, 9, 7, 9], 'exam': 8},\n",
    "    {'name': 'Ирина', 'surname': 'Андреева', 'sex': 'ж', 'program_exp': True, 'grade': [10, 9, 8, 10, 10], 'exam': 10},\n",
    "    {'name': 'Татьяна', 'surname': 'Сидорова', 'sex': 'ж', 'program_exp': True, 'grade': [7, 8, 8, 9, 8], 'exam': 8},\n",
    "    {'name': 'Иван', 'surname': 'Васильев', 'sex': 'ж', 'program_exp': True, 'grade': [9, 8, 9, 6, 9], 'exam': 10},\n",
    "    {'name': 'Роман', 'surname': 'Золотарев', 'sex': 'ж', 'program_exp': False, 'grade': [8, 9, 9, 6, 9], 'exam': 10}    \n",
    "]\n",
    "\n",
    "def group_grades(students_list):\n",
    "    group_grades = []\n",
    "    for element_list in students_list:\n",
    "        for element in element_list['grade']:\n",
    "            group_grades.append(element)\n",
    "    return group_grades\n",
    "\n",
    "def group_exams (students_list):\n",
    "    group_exams = []\n",
    "    for element in students_list:\n",
    "        group_exams.append(element['exam'])\n",
    "    return group_exams\n",
    "\n",
    "def average_group_results (students_list) :\n",
    "    average_group_grades = round(sum(group_grades(students_list)) / len(group_grades(students_list)), 2)\n",
    "    average_group_exams = round(sum(group_exams(students_list)) / len(group_exams(students_list)), 2)\n",
    "    return \"Домашняя работа: \", average_group_grades, \"Экзамен: \", average_group_exams\n",
    "\n",
    "\n",
    "def group_grades_filter(filter_name, filter_value):\n",
    "    group_grades_filter = []\n",
    "    for element_list in students_list:\n",
    "        if element_list[filter_name] == filter_value:\n",
    "            for element in element_list['grade']:\n",
    "                group_grades_filter.append(element)\n",
    "    return group_grades_filter           \n",
    "\n",
    "def group_exams_filter(filter_name, filter_value):\n",
    "    group_exams_filter = []\n",
    "    for element in students_list:\n",
    "        if element[filter_name] == filter_value:\n",
    "            group_exams_filter.append(element['exam'])\n",
    "    return group_exams_filter\n",
    "\n",
    "def average_group_results_filter(filter_name, filter_value):\n",
    "    average_group_exams_filter = round(sum(group_exams_filter(filter_name,filter_value)) / len(group_exams_filter(filter_name,filter_value)),2)\n",
    "    average_group_grades_filter = round(sum(group_grades_filter(filter_name,filter_value)) / len(group_grades_filter(filter_name,filter_value)),2)\n",
    "    return \"Домашняя работа: \", average_group_grades_filter,\"Экзамен: \",  average_group_exams_filter\n",
    "\n",
    "def input_func(input_code):\n",
    "    if input_code == 1:\n",
    "        print(\"Средние оценки по группе: \")\n",
    "        print(average_group_results(students_list))\n",
    "    elif input_code == 2:\n",
    "        print(\"Средние оценки в зависимости от пола: \")\n",
    "        print(\"Женщины: \")\n",
    "        print(average_group_results_filter(\"sex\", \"ж\"))\n",
    "        print(\"Мужчины: \")\n",
    "        print(average_group_results_filter(\"sex\", \"м\"))          \n",
    "    elif input_code == 3:\n",
    "        print(\"Средние оценки в зависимости от опыта в программировании: \")\n",
    "        print(\"С опытом: \")\n",
    "        print(average_group_results_filter(\"program_exp\", True))\n",
    "        print(\"Без опыта: \")\n",
    "        print(average_group_results_filter(\"program_exp\", False))    \n",
    "    else:\n",
    "        print(\"Введите значение от 1 до 3\")\n",
    "    return input_code\n",
    "\n",
    "input_func(int(input ()))\n",
    "\n",
    "\n",
    "    "
   ]
  },
  {
   "cell_type": "code",
   "execution_count": null,
   "metadata": {},
   "outputs": [],
   "source": []
  }
 ],
 "metadata": {
  "kernelspec": {
   "display_name": "Python 3",
   "language": "python",
   "name": "python3"
  },
  "language_info": {
   "codemirror_mode": {
    "name": "ipython",
    "version": 3
   },
   "file_extension": ".py",
   "mimetype": "text/x-python",
   "name": "python",
   "nbconvert_exporter": "python",
   "pygments_lexer": "ipython3",
   "version": "3.7.3"
  }
 },
 "nbformat": 4,
 "nbformat_minor": 2
}
