{
 "cells": [
  {
   "cell_type": "markdown",
   "metadata": {},
   "source": [
    "**Задание 1**. Даны 2 строки: *long_phrase* и *short_phrase*. \n",
    "Напишите код, который проверяет действительно ли длинная фраза *long_phrase* длиннее короткой *short_phrase*. И выводит *True* или *False* в зависимости от результата сравнения."
   ]
  },
  {
   "cell_type": "code",
   "execution_count": 1,
   "metadata": {},
   "outputs": [],
   "source": [
    "long_phrase = 'Насколько проще было бы писать программы, если бы не заказчики'\n",
    "short_phrase = '640Кб должно хватить для любых задач. Билл Гейтс (по легенде)'"
   ]
  },
  {
   "cell_type": "code",
   "execution_count": 2,
   "metadata": {},
   "outputs": [
    {
     "name": "stdout",
     "output_type": "stream",
     "text": [
      "False\n"
     ]
    }
   ],
   "source": [
    "if len('long_phrase') > len('short_phrase'):\n",
    "    print (True)\n",
    "else:\n",
    "    print (False)"
   ]
  },
  {
   "cell_type": "markdown",
   "metadata": {},
   "source": [
    "**Задание 2**. Дано значение объема файла в байтах. Напишите перевод этого значения в мегабайты в формате: \"*Объем файла равен 213.68Mb*\""
   ]
  },
  {
   "cell_type": "code",
   "execution_count": 3,
   "metadata": {},
   "outputs": [
    {
     "name": "stdout",
     "output_type": "stream",
     "text": [
      "Введите объем файла в байтах:50000000\n",
      "Объем файла равен 47.68 Mb\n"
     ]
    }
   ],
   "source": [
    "file_b_size = int (input ( 'Введите объем файла в байтах:' ))\n",
    "file_mb_size = file_b_size / 1048576\n",
    "print ('Объем файла равен', round (file_mb_size,2), 'Mb')\n"
   ]
  },
  {
   "cell_type": "markdown",
   "metadata": {},
   "source": [
    "**Задание 3**. Разработать приложение для определения знака зодиака по дате рождения. Пример:\n",
    "\n",
    "Введите месяц: март\n",
    "\n",
    "Введите число: 6\n",
    "\n",
    "Вывод:\n",
    "Рыбы\n"
   ]
  },
  {
   "cell_type": "markdown",
   "metadata": {},
   "source": [
    "Знак зодиака можно определить по этой таблице:\n",
    "\n",
    "Овен 21.03 - 20.04\n",
    "\n",
    "Телец 21.04 - 20.05\n",
    "\n",
    "Близнецы 21.05 - 20.06\n",
    "\n",
    "Рак 21.06 - 22.07\n",
    "\n",
    "Лев 23.07 - 22.08\n",
    "\n",
    "Дева 23.08 - 23.09\n",
    "\n",
    "Весы 24.09 - 23.10\n",
    "\n",
    "Скорпион 24.10 - 21.11\n",
    "\n",
    "Стрелец 22.11 - 21.12\n",
    "\n",
    "Козерог 22.12 - 19.01\n",
    "\n",
    "Водолей 20.01 - 18.02\n",
    "\n",
    "Рыбы 19.02 - 20.03"
   ]
  },
  {
   "cell_type": "code",
   "execution_count": 18,
   "metadata": {},
   "outputs": [
    {
     "name": "stdout",
     "output_type": "stream",
     "text": [
      "Введите месяц рождения с большой буквы:Февраль\n",
      "Введите дату рождения:27\n",
      "Рыбы\n"
     ]
    }
   ],
   "source": [
    "birth_month = input ('Введите месяц рождения с большой буквы:')\n",
    "birth_date = int (input ('Введите дату рождения:'))\n",
    "if birth_month == 'Январь' and birth_date <= 19:\n",
    "    print ('Козерог')\n",
    "elif birth_month == 'Январь' and birth_date > 19:\n",
    "    print ('Водолей')\n",
    "elif birth_month == 'Февраль' and birth_date <= 18:\n",
    "    print ('Водолей')\n",
    "elif birth_month == 'Февраль' and birth_date > 18:\n",
    "    print ('Рыбы')  #ну и так далее в соответствии с таблицей....\n",
    "else:\n",
    "    print ('Ошибка ввода данных')\n",
    "    \n"
   ]
  },
  {
   "cell_type": "markdown",
   "metadata": {},
   "source": [
    "**Задание 4**. Нужно разработать приложение для финансового планирования.\n",
    "Приложение учитывает сколько уходит на ипотеку, \"на жизнь\" и сколько нужно отложить на пенсию.\n",
    "Пользователь вводит:\n",
    "- заработанную плату в месяц.\n",
    "- сколько процентов от ЗП уходит на ипотеку.\n",
    "- сколько процентов от ЗП уходит \"на жизнь\".\n",
    "- сколько раз приходит премия в год.\n",
    "\n",
    "Остальная часть заработанной платы откладывается на пенсию.\n",
    "\n",
    "Также пользователю приходит премия в размере зарплаты, от которой половина уходит на отпуск, а вторая половина откладывается.\n",
    "\n",
    "Программа должна учитывать сколько премий было в год.\n",
    "\n",
    "Нужно вывести сколько денег тратит пользователь на ипотеку и сколько он накопит за год.\n",
    "\n",
    "Пример:\n",
    "\n",
    "Введите заработанную плату в месяц: 100000\n",
    "\n",
    "Введите сколько процентов уходит на ипотеку: 30\n",
    "\n",
    "Введите сколько процентов уходит на жизнь: 50\n",
    "\n",
    "Введите количество премий за год: 2\n",
    "\n",
    "Вывод:\n",
    "На ипотеку было потрачено: 360000 рублей\n",
    "Было накоплено: 340000 рублей"
   ]
  },
  {
   "cell_type": "code",
   "execution_count": 23,
   "metadata": {},
   "outputs": [
    {
     "name": "stdout",
     "output_type": "stream",
     "text": [
      "Введите заработную плату в месяц:100000\n",
      "Введите сколько процентов уходит на ипотеку:30\n",
      "Введите сколько процентов уходит на жизнь:50\n",
      "Введите количество премий за год:2\n",
      "На ипотеку было потрачено:  360000 Было накоплено:  340000\n"
     ]
    }
   ],
   "source": [
    "month_salary = int(input('Введите заработную плату в месяц:'))\n",
    "month_mortgage = int(input('Введите сколько процентов уходит на ипотеку:'))\n",
    "month_expenses = int(input('Введите сколько процентов уходит на жизнь:'))\n",
    "bonus_number = int(input('Введите количество премий за год:'))\n",
    "year_salary = month_salary * 12 #годовая заработная плата\n",
    "year_bonus = month_salary * bonus_number # годовая премия\n",
    "year_income = year_salary + year_bonus # доход за год\n",
    "year_mortgage = year_salary * month_mortgage / 100 # расходы на ипотеку\n",
    "year_expenses = year_salary * month_expenses / 100 # расходы на жизнь\n",
    "holiday_expenses = year_bonus / 2 # расходы на отпуск\n",
    "year_total_expenses = year_mortgage + year_expenses + holiday_expenses # расходы за год\n",
    "outcome = year_income - year_total_expenses\n",
    "print ('На ипотеку было потрачено: ', int(year_mortgage), 'Было накоплено: ', int(outcome))\n",
    "      \n"
   ]
  }
 ],
 "metadata": {
  "kernelspec": {
   "display_name": "Python 3",
   "language": "python",
   "name": "python3"
  },
  "language_info": {
   "codemirror_mode": {
    "name": "ipython",
    "version": 3
   },
   "file_extension": ".py",
   "mimetype": "text/x-python",
   "name": "python",
   "nbconvert_exporter": "python",
   "pygments_lexer": "ipython3",
   "version": "3.7.3"
  }
 },
 "nbformat": 4,
 "nbformat_minor": 2
}
